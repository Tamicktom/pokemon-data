{
 "cells": [
  {
   "cell_type": "code",
   "execution_count": 16,
   "metadata": {},
   "outputs": [],
   "source": [
    "import pandas as pd\n",
    "import numpy as np\n",
    "import matplotlib.pyplot as plt\n",
    "import seaborn as sns\n",
    "import requests\n",
    "import json\n",
    "import time\n",
    "import threading"
   ]
  },
  {
   "cell_type": "code",
   "execution_count": 34,
   "metadata": {},
   "outputs": [],
   "source": [
    "# TOTAL_POKEMONS = 1025 # for the final version\n",
    "TOTAL_POKEMONS = 25 # for testing\n",
    "API_URL = \"https://pokeapi.co/api/v2/pokemon/\" # url to fetch pokemons\n",
    "FOLDER = \"pokemons/\" # folder to save the pokemons\n",
    "FETCH_DELAY = 50 # ms\n",
    "MAX_THREADS = 8 # max number of threads to fetch pokemons. 8 is a good number for my computer"
   ]
  },
  {
   "cell_type": "code",
   "execution_count": 10,
   "metadata": {},
   "outputs": [],
   "source": [
    "# fetch data from API\n",
    "def fetch_pkm_by_id(pkm_id):\n",
    "    response = requests.get(API_URL + str(pkm_id))\n",
    "    return response.json()"
   ]
  },
  {
   "cell_type": "code",
   "execution_count": 11,
   "metadata": {},
   "outputs": [],
   "source": [
    "# save data to file\n",
    "def save_pkm(pkm_id, pkm_data):\n",
    "    with open(FOLDER + str(pkm_id) + \".json\", \"w\") as file:\n",
    "        json.dump(pkm_data, file)"
   ]
  },
  {
   "cell_type": "code",
   "execution_count": 20,
   "metadata": {},
   "outputs": [],
   "source": [
    "# fetch and save all pokemons\n",
    "def fetch_all_pokemons():\n",
    "    for i in range(1, TOTAL_POKEMONS + 1):\n",
    "        pkm_data = fetch_pkm_by_id(i)\n",
    "        save_pkm(i, pkm_data)\n",
    "        # wait to avoid being blocked\n",
    "        time.sleep(FETCH_DELAY / 1000)\n",
    "        print(f\"Pokemon {i} fetched\")"
   ]
  },
  {
   "cell_type": "code",
   "execution_count": 35,
   "metadata": {},
   "outputs": [
    {
     "name": "stdout",
     "output_type": "stream",
     "text": [
      "Pokemon 7 fetched\n",
      "Pokemon 4 fetched\n",
      "Pokemon 3 fetched\n",
      "Pokemon 5 fetched\n",
      "Pokemon 2 fetched\n",
      "Pokemon 8 fetched\n",
      "Pokemon 1 fetched\n",
      "Pokemon 6 fetched\n",
      "Pokemon 11 fetched\n",
      "Pokemon 13 fetched\n",
      "Pokemon 10 fetched\n",
      "Pokemon 16 fetched\n",
      "Pokemon 9 fetched\n",
      "Pokemon 12 fetched\n",
      "Pokemon 14 fetched\n",
      "Pokemon 21 fetched\n",
      "Pokemon 18 fetched\n",
      "Pokemon 19 fetched\n",
      "Pokemon 24 fetched\n",
      "Pokemon 22 fetched\n",
      "Pokemon 20 fetched\n",
      "Pokemon 15 fetched\n",
      "Pokemon 23 fetched\n",
      "Pokemon 17 fetched\n",
      "Pokemon 25 fetched\n"
     ]
    }
   ],
   "source": [
    "# Multhithreaded fetchs\n",
    "\n",
    "fetch_for_threads = []\n",
    "\n",
    "# equaly divide the work between threads. So, for example, if we have 8 threads and 80 pokemons, each thread will fetch 10 pokemons.\n",
    "def divide_work():\n",
    "    for i in range(MAX_THREADS):\n",
    "        fetch_for_threads.append([])\n",
    "\n",
    "    for i in range(1, TOTAL_POKEMONS + 1):\n",
    "        fetch_for_threads[i % MAX_THREADS].append(i)\n",
    "\n",
    "divide_work()\n",
    "\n",
    "def fetch_thread(thread_id):\n",
    "    for pkm_id in fetch_for_threads[thread_id]:\n",
    "        pkm_data = fetch_pkm_by_id(pkm_id)\n",
    "        save_pkm(pkm_id, pkm_data)\n",
    "        print(f\"Pokemon {pkm_id} fetched by thread {thread_id} successfully :)\")\n",
    "\n",
    "threads = []\n",
    "\n",
    "for i in range(MAX_THREADS):\n",
    "    threads.append(threading.Thread(target=fetch_thread, args=(i,)))\n",
    "\n",
    "for thread in threads:\n",
    "    thread.start()"
   ]
  },
  {
   "cell_type": "code",
   "execution_count": null,
   "metadata": {},
   "outputs": [],
   "source": []
  }
 ],
 "metadata": {
  "kernelspec": {
   "display_name": "pokemon-data-9jn_qYqh",
   "language": "python",
   "name": "python3"
  },
  "language_info": {
   "codemirror_mode": {
    "name": "ipython",
    "version": 3
   },
   "file_extension": ".py",
   "mimetype": "text/x-python",
   "name": "python",
   "nbconvert_exporter": "python",
   "pygments_lexer": "ipython3",
   "version": "3.11.8"
  }
 },
 "nbformat": 4,
 "nbformat_minor": 2
}
